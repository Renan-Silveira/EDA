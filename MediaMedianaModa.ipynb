{
 "cells": [
  {
   "cell_type": "markdown",
   "metadata": {},
   "source": [
    "# EDA com Python \n",
    " #### Creditos: Bruno Melo da Silva"
   ]
  },
  {
   "cell_type": "markdown",
   "metadata": {},
   "source": []
  },
  {
   "cell_type": "markdown",
   "metadata": {},
   "source": [
    "Em alguma fase de seu trabalho, o pesquisador depara-se com o\n",
    " problema de analisar e entender um conjunto de dados relevante\n",
    " ao seu particular objeto de estudos.  Ele necessitará trabalhar os\n",
    " dados para transformá-los em informações, para compará-los\n",
    " com outros resultados, ou ainda para julgar sua adequação a\n",
    " alguma teoria.  \n",
    "   BUSSAB & MORETTIN  "
   ]
  },
  {
   "cell_type": "markdown",
   "metadata": {},
   "source": [
    "EDA (Exploratory Data Analysis) é a Análise Exploratória de Dados, uma etapa crucial\n",
    " em projetos de dados.  \n",
    " É o processo de investigar e resumir um conjunto de dados\n",
    " para entender suas características principais, identificar padrões, detectar\n",
    " anomalias, testar hipóteses e verificar pressupostos com a ajuda de estatísticas\n",
    " descritivas e visualizações.  \n",
    " "
   ]
  },
  {
   "cell_type": "markdown",
   "metadata": {},
   "source": []
  },
  {
   "cell_type": "markdown",
   "metadata": {},
   "source": [
    " ## Objetivos do EDA:\n",
    " - Compreender os Dados\n",
    " - Identificar Padrões\n",
    " - Detectar de Anomalias\n",
    " - Preparar para Modelagem"
   ]
  },
  {
   "cell_type": "markdown",
   "metadata": {},
   "source": [
    "Ferramentas e Técnicas:\n",
    " - Estatística Descritiva\n",
    " - Visualização de Dados (gráficos)\n",
    " - Manipulação de Dados"
   ]
  },
  {
   "cell_type": "markdown",
   "metadata": {},
   "source": [
    " A EDA é uma etapa fundamental na estatística e na ciência de dados, dedicada à\n",
    " investigação inicial dos dados para resumir suas principais características,\n",
    " frequentemente utilizando métodos visuais. Seu objetivo é compreender a estrutura\n",
    " dos dados, identificar padrões, detectar anomalias e testar hipóteses preliminares,\n",
    " sem pressupor modelos estatísticos específicos"
   ]
  },
  {
   "cell_type": "markdown",
   "metadata": {},
   "source": [
    "A EDA serve como base para análises estatísticas mais aprofundadas, permitindo\n",
    " que pesquisadores e profissionais obtenham insights valiosos sobre os dados antes\n",
    " de aplicar modelos inferenciais ou preditivos. Ela facilita a compreensão das relações\n",
    " entre variáveis e auxilia na preparação dos dados para análises subsequentes."
   ]
  },
  {
   "cell_type": "markdown",
   "metadata": {},
   "source": [
    "Exemplo  \n",
    " Vamos realizar um exemplo básico manualmente para que você compreenda\n",
    " melhor como fazer a chamada EDA (Exploratory Data Analysis).  \n",
    " Suponha que temos\n",
    " as notas de um grupo de 10 alunos em um teste (em uma escala de 0 a 10):"
   ]
  },
  {
   "cell_type": "code",
   "execution_count": 43,
   "metadata": {},
   "outputs": [],
   "source": [
    "notas = [6, 8, 5, 7, 9, 5, 6, 10, 8, 7]"
   ]
  },
  {
   "cell_type": "markdown",
   "metadata": {},
   "source": [
    " Primeiramente, vamos organizar esse conjunto de dados do menor para o maior:"
   ]
  },
  {
   "cell_type": "code",
   "execution_count": 44,
   "metadata": {},
   "outputs": [
    {
     "name": "stdout",
     "output_type": "stream",
     "text": [
      "[5, 5, 6, 6, 7, 7, 8, 8, 9, 10]\n"
     ]
    }
   ],
   "source": [
    "notas.sort()\n",
    "print(notas)"
   ]
  },
  {
   "cell_type": "markdown",
   "metadata": {},
   "source": [
    " Até aqui, apenas organizamos os dados em ordem crescente.  \n",
    " Essa simples\n",
    " organização já nos permite identificar o Limite Inferior (LI), o Limite Superior (LS),\n",
    " traçar a mediana e começar a entender o comportamento dos dados."
   ]
  },
  {
   "cell_type": "code",
   "execution_count": 45,
   "metadata": {},
   "outputs": [
    {
     "name": "stdout",
     "output_type": "stream",
     "text": [
      "5\n",
      "10\n"
     ]
    }
   ],
   "source": [
    "LI = min(notas)\n",
    "LS = max(notas)\n",
    "print(LI)\n",
    "print(LS)"
   ]
  },
  {
   "cell_type": "markdown",
   "metadata": {},
   "source": [
    "Agora, avançaremos para a estatística descritiva, começando pelas medidas de\n",
    " posição.  \n",
    " Essas medidas são úteis porque muitas vezes queremos traduzir perguntas\n",
    " complexas em respostas simples, e é exatamente isso que elas fazem.  \n",
    " As principais medidas de posição são: Média, Mediana e Moda."
   ]
  },
  {
   "cell_type": "markdown",
   "metadata": {},
   "source": [
    "A média representa um “número central” dos dados. Por que as aspas? Porque a\n",
    " média é um valor que, em teoria, deveria representar o conjunto de dados, mas,\n",
    " dependendo do contexto, pode distorcer a realidade.  \n",
    " Por exemplo, imagine que o Confiança, time da cidade de Aracaju (conhecida como a\n",
    " Suíça Brasileira), jogou dois jogos e a média de gols marcados foi 3.  \n",
    " Pausa para reflexão...  \n",
    " Embora esse número seja expressivo, ao analisarmos os dados com mais cuidado,\n",
    " percebemos que no primeiro jogo, contra o time pequeno chamado Sergipe, o\n",
    " Confiança aplicou uma goleada de 6 a 0. Já no segundo jogo, um clássico da Série C\n",
    " contra o Itabaiana, o resultado foi um empate de 0 a 0"
   ]
  },
  {
   "cell_type": "markdown",
   "metadata": {},
   "source": [
    "### Média  \n",
    " Percebeu a ironia? A média sozinha não conta toda a história. Vamos pensar em\n",
    " outro exemplo: a média salarial de uma empresa. Suponha que ela seja 5.000.  \n",
    " Você, que está participando de um processo seletivo, pensa: \"Quero trabalhar nessa\n",
    " empresa, pois começarei ganhando 5.000.\"\n",
    " Mas, se você fez o curso com o Bruno, já sabe que essa conclusão pode não ser\n",
    " verdadeira.  A média pode ser influenciada por salários muito altos ou muito baixos,\n",
    " e a maioria dos funcionários pode ganhar bem menos do que os 5.000."
   ]
  },
  {
   "cell_type": "markdown",
   "metadata": {},
   "source": [
    "Você deve estar pensando: “Eu sei tudo sobre a média.”  \n",
    "Mas calma aí, vamos dar um\n",
    " sustinho nesse coração curioso. A fórmula da média é escrita assim:"
   ]
  },
  {
   "cell_type": "markdown",
   "metadata": {},
   "source": []
  },
  {
   "cell_type": "markdown",
   "metadata": {},
   "source": [
    "### Fórmula da Média\n",
    "\n",
    "A média aritmética é calculada como:\n",
    "\n",
    "$$\n",
    "\\bar{x} = {\\frac{\\sum_{i=1}^{n} x_i}{n}}\n",
    "$$"
   ]
  },
  {
   "cell_type": "markdown",
   "metadata": {},
   "source": [
    "Agora complicou, né? Mas calma! Se você aprendeu que a média é calculada  \n",
    " somando todas as observações e dividindo pela quantidade de elementos, você está no caminho certo.  \n",
    " Essa fórmula nada mais é do que a forma matemática de representar exatamente isso.  \n",
    " Então, voltando ao nosso conjunto de dados das notas (espero que você se lembre dele!), vamos calcular a média:  "
   ]
  },
  {
   "cell_type": "code",
   "execution_count": 46,
   "metadata": {},
   "outputs": [
    {
     "name": "stdout",
     "output_type": "stream",
     "text": [
      "7.1\n"
     ]
    }
   ],
   "source": [
    "soma = sum(notas) #Somatório = 5 + 5 + 6 + 6 + 7 + 7 + 8 + 8 + 9 + 10 = 71\n",
    "quantidade = len(notas) #Quantidade = 10\n",
    "\n",
    "media = soma / quantidade  #Logo, 71 dividido por 10 = 7,1\n",
    "print(media) #7,1"
   ]
  },
  {
   "cell_type": "markdown",
   "metadata": {},
   "source": [
    " ### Mediana\n",
    " A mediana é uma medida de tendência central utilizada para representar o valor central de um conjunto de dados organizados em ordem crescente ou decrescente.  \n",
    " Diferentemente da média, a mediana não é influenciada por valores extremos (muito altos ou muito baixos)."
   ]
  },
  {
   "cell_type": "markdown",
   "metadata": {},
   "source": [
    " Você lembra que a primeira coisa que fizemos foi organizar os dados em ordem\n",
    " crescente? Pois bem, o cálculo da mediana depende da quantidade de observações\n",
    " no conjunto de dados. Como assim?  \n",
    " Supondo que a quantidade de observações é ímpar, a mediana será o número\n",
    " central.  \n",
    "  Vamos a um exemplo com este conjunto de dados:"
   ]
  },
  {
   "cell_type": "code",
   "execution_count": 47,
   "metadata": {},
   "outputs": [],
   "source": [
    "import statistics\n",
    "from numpy import median\n",
    "exemplos = [1,2,3,4,5]\n",
    "\n",
    "def calc_median(data): \n",
    "    data.sort()\n",
    "    mid = len(data) //2\n",
    "    return (data[mid] + data[~mid]) / 2.0\n",
    "\n",
    "mediana_s = statistics.median(exemplos) #exemplo com o módulo statistics\n",
    "mediana_np = median(exemplos) #exemplo usando o numpy\n",
    "mediana_def = calc_median(exemplos) #método testado pelo link https://stackoverflow.com/a/48369590\n",
    "\n"
   ]
  },
  {
   "cell_type": "markdown",
   "metadata": {},
   "source": [
    " Aqui, o número central é 3, que está exatamente no meio do conjunto.   \n",
    " Esse é o valor da mediana."
   ]
  },
  {
   "cell_type": "markdown",
   "metadata": {},
   "source": [
    " Percebeu que o central está destacado, ele é literalmente o número que está no\n",
    " meio do seu dataset, mas quando é par temos um problema porque teremos dois\n",
    " números no meio e como ajustar isso? Vamos utilizar o nosso exemplo de notas"
   ]
  },
  {
   "cell_type": "code",
   "execution_count": 48,
   "metadata": {},
   "outputs": [
    {
     "name": "stdout",
     "output_type": "stream",
     "text": [
      "[5, 5, 6, 6, 7, 7, 8, 8, 9, 10]\n"
     ]
    }
   ],
   "source": [
    "print(notas)"
   ]
  },
  {
   "cell_type": "markdown",
   "metadata": {},
   "source": [
    "Contando da esquerda para direita o meu quinto número é o 7, da direita para\n",
    " esquerda também, mas como tratar isso? A estatística diz que devemos somar os\n",
    " dois números e dividir por 2, nesse caso será o próprio 7."
   ]
  },
  {
   "cell_type": "markdown",
   "metadata": {},
   "source": []
  },
  {
   "cell_type": "markdown",
   "metadata": {},
   "source": [
    " ### Moda\n",
    " A moda é a medida de tendência central que representa o valor que ocorre com\n",
    " maior frequência em um conjunto de dados. Em outras palavras, é o valor mais\n",
    " comum ou repetido no conjunto.  \n",
    "\n",
    "  A moda tem um conceito parecido com a ideia de uma roupa que está “na moda”.\n",
    " Olhe para a arara de roupas e perceba que há um modelo que aparece mais vezes.\n",
    " Esse modelo é a moda! O mesmo acontece com o seu conjunto de dados: a moda é\n",
    " o valor que mais se repete.  \n",
    "\n",
    "  Agora, pense em um levantamento demográfico onde descobrimos que a média de\n",
    " filhos por mãe é 2. Isso significa que, em média, cada mulher tem dois filhos. Mas, ao\n",
    " analisarmos a moda, percebemos que o número 1 é o que mais se repete.\n",
    " Interessante, não?"
   ]
  },
  {
   "cell_type": "code",
   "execution_count": 56,
   "metadata": {},
   "outputs": [
    {
     "name": "stdout",
     "output_type": "stream",
     "text": [
      "2.0\n",
      "1\n"
     ]
    }
   ],
   "source": [
    "quantidadeFilhos = [1,1,2,1,3,2,4,1,2,1,3,1,4,2,3,1,2,2,3,1]\n",
    "mediaFilhos = sum(quantidadeFilhos) / len(quantidadeFilhos) #media de filhos\n",
    "moda = statistics.mode(quantidadeFilhos) #moda\n",
    "print(mediaFilhos) #saída: 2\n",
    "print(moda) #saída: 1"
   ]
  },
  {
   "cell_type": "markdown",
   "metadata": {},
   "source": [
    "  Essa análise nos mostra que, apesar da média indicar 2 filhos, é mais provável que\n",
    " uma pessoa tenha apenas 1 filho. É aí que está a sagacidade da interpretação dos\n",
    " dados: a média nem sempre conta toda a história, enquanto a moda pode revelar o\n",
    " comportamento mais comum.  \n",
    "  Agora, vamos voltar ao nosso dataset e observar algumas curiosidades sobre a\n",
    " moda:"
   ]
  },
  {
   "cell_type": "code",
   "execution_count": 59,
   "metadata": {},
   "outputs": [
    {
     "name": "stdout",
     "output_type": "stream",
     "text": [
      "[5, 5, 6, 6, 7, 7, 8, 8, 9, 10]\n"
     ]
    }
   ],
   "source": [
    "print(notas) #[5, 5, 6, 6, 7, 7, 8, 8, 9, 10]"
   ]
  },
  {
   "cell_type": "markdown",
   "metadata": {},
   "source": [
    "Ao analisarmos os dados, percebemos que não há uma única moda. Os números 5,\n",
    " 6, 7 e 8 se repetem na mesma frequência (duas vezes cada). Isso significa que o\n",
    " conjunto é multimodal, ou seja, possui várias modas e não uma única.  \n",
    "  Para sua melhor interpretação a moda pode ser:\n",
    " - Unimodal: O conjunto tem apenas uma moda.\n",
    " Exemplo: {1, 2, 2, 3, 4} → Moda: 2\n",
    " - Bimodal: O conjunto tem duas modas.\n",
    " Exemplo: {1, 2, 2, 3, 3, 4} → Modas: 2 e 3\n",
    " - Multimodal: O conjunto tem mais de duas modas.\n",
    " Exemplo: {1, 1, 2, 2, 3, 3, 4} → Modas: 1, 2 e 3\n",
    " - Sem moda: Quando nenhum valor se repete.\n",
    " Exemplo: {1, 2, 3, 4, 5} → Sem moda"
   ]
  }
 ],
 "metadata": {
  "kernelspec": {
   "display_name": "Python 3",
   "language": "python",
   "name": "python3"
  },
  "language_info": {
   "codemirror_mode": {
    "name": "ipython",
    "version": 3
   },
   "file_extension": ".py",
   "mimetype": "text/x-python",
   "name": "python",
   "nbconvert_exporter": "python",
   "pygments_lexer": "ipython3",
   "version": "3.13.0"
  }
 },
 "nbformat": 4,
 "nbformat_minor": 2
}
