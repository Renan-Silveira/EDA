{
 "cells": [
  {
   "cell_type": "markdown",
   "metadata": {},
   "source": [
    "# Distribuição de Idades  \n",
    "Objetivos:\n",
    "- Utilizando o dataset 'titanic' calcular a média, mediana, moda e desvio padrão da coluna de idade.\n",
    "- Plotar um histograma para visualizar a distribuição das idades.\n",
    "- Verificar a existência de outliers na distribuição das idades."
   ]
  },
  {
   "cell_type": "code",
   "execution_count": 7,
   "metadata": {},
   "outputs": [],
   "source": [
    "#importando as bibliotecas necessárias\n",
    "import seaborn as sns\n",
    "import pandas as pd\n",
    "import matplotlib.pyplot as plt\n",
    "import statistics\n",
    "import numpy as np"
   ]
  },
  {
   "cell_type": "code",
   "execution_count": null,
   "metadata": {},
   "outputs": [
    {
     "name": "stdout",
     "output_type": "stream",
     "text": [
      "   survived  pclass     sex   age  sibsp  parch     fare embarked  class  \\\n",
      "0         0       3    male  22.0      1      0   7.2500        S  Third   \n",
      "1         1       1  female  38.0      1      0  71.2833        C  First   \n",
      "2         1       3  female  26.0      0      0   7.9250        S  Third   \n",
      "3         1       1  female  35.0      1      0  53.1000        S  First   \n",
      "4         0       3    male  35.0      0      0   8.0500        S  Third   \n",
      "\n",
      "     who  adult_male deck  embark_town alive  alone  \n",
      "0    man        True  NaN  Southampton    no  False  \n",
      "1  woman       False    C    Cherbourg   yes  False  \n",
      "2  woman       False  NaN  Southampton   yes   True  \n",
      "3  woman       False    C  Southampton   yes  False  \n",
      "4    man        True  NaN  Southampton    no   True  \n"
     ]
    }
   ],
   "source": [
    "#importando o dataframe\n",
    "df = sns.load_dataset('titanic')\n",
    "print(df.head()) "
   ]
  },
  {
   "cell_type": "code",
   "execution_count": 21,
   "metadata": {},
   "outputs": [
    {
     "name": "stdout",
     "output_type": "stream",
     "text": [
      "\n",
      "Média:  30.0\n",
      "\n",
      "Mediana:  32.0\n",
      "\n",
      "Moda por statistics:  24.0\n",
      "\n",
      "Moda pelo pandas:  24.0\n",
      "\n",
      "Desvio Padrão usando n no denominador:  14.516321150817316\n"
     ]
    }
   ],
   "source": [
    "#Calculando a média, mediana e moda\n",
    "media = round(df['age'].sum() / df['age'].count(),0) #calculando a média\n",
    "\n",
    "def calc_median(data): \n",
    "    sorted_data = data.sort_values().reset_index(drop=True)  # Ordena e reseta o índice\n",
    "    mid = len(sorted_data) // 2 #divide a lista de valores em duas partes\n",
    "    \n",
    "    if len(sorted_data) % 2 == 0:  # Caso de número par de elementos\n",
    "        return (sorted_data[mid - 1] + sorted_data[mid]) / 2.0 \n",
    "    else:  # Caso de número ímpar de elementos\n",
    "        return sorted_data[mid] \n",
    "    \n",
    "mediana = calc_median(df['age']) #calculando a mediana\n",
    "\n",
    "moda_stat = statistics.mode(df['age']) #calculando a moda pelo método de statistics\n",
    "moda_pd = df['age'].mode().iloc[0] #capturando o primeiro valor modal pelo pandas\n",
    "\n",
    "desvio_padrao = df['age'].std(ddof=0)\n",
    "\n",
    "print(\"\\nMédia: \", media)\n",
    "print(\"\\nMediana: \", mediana)\n",
    "print(\"\\nModa por statistics: \", moda_stat)\n",
    "print(\"\\nModa pelo pandas: \", moda_pd)\n",
    "print(\"\\nDesvio Padrão usando n no denominador: \", desvio_padrao)"
   ]
  }
 ],
 "metadata": {
  "kernelspec": {
   "display_name": "Python 3",
   "language": "python",
   "name": "python3"
  },
  "language_info": {
   "codemirror_mode": {
    "name": "ipython",
    "version": 3
   },
   "file_extension": ".py",
   "mimetype": "text/x-python",
   "name": "python",
   "nbconvert_exporter": "python",
   "pygments_lexer": "ipython3",
   "version": "3.13.0"
  }
 },
 "nbformat": 4,
 "nbformat_minor": 2
}
