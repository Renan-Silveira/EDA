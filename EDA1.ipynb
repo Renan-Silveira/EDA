{
 "cells": [
  {
   "cell_type": "markdown",
   "metadata": {},
   "source": [
    "Em alguma fase de seu trabalho, o pesquisador depara-se com o\n",
    " problema de analisar e entender um conjunto de dados relevante\n",
    " ao seu particular objeto de estudos.  Ele necessitará trabalhar os\n",
    " dados para transformá-los em informações, para compará-los\n",
    " com outros resultados, ou ainda para julgar sua adequação a\n",
    " alguma teoria.  \n",
    "   BUSSAB & MORETTIN  "
   ]
  },
  {
   "cell_type": "markdown",
   "metadata": {},
   "source": [
    "EDA (Exploratory Data Analysis) é a Análise Exploratória de Dados, uma etapa crucial\n",
    " em projetos de dados.  \n",
    " É o processo de investigar e resumir um conjunto de dados\n",
    " para entender suas características principais, identificar padrões, detectar\n",
    " anomalias, testar hipóteses e verificar pressupostos com a ajuda de estatísticas\n",
    " descritivas e visualizações.  \n",
    " "
   ]
  },
  {
   "cell_type": "markdown",
   "metadata": {},
   "source": [
    " Objetivos do EDA:\n",
    " - Compreender os Dados\n",
    " - Identificar Padrões\n",
    " - Detectar de Anomalias\n",
    " - Preparar para Modelagem"
   ]
  },
  {
   "cell_type": "markdown",
   "metadata": {},
   "source": [
    "Ferramentas e Técnicas:\n",
    " - Estatística Descritiva\n",
    " - Visualização de Dados (gráficos)\n",
    " - Manipulação de Dados"
   ]
  },
  {
   "cell_type": "markdown",
   "metadata": {},
   "source": [
    " A EDA é uma etapa fundamental na estatística e na ciência de dados, dedicada à\n",
    " investigação inicial dos dados para resumir suas principais características,\n",
    " frequentemente utilizando métodos visuais. Seu objetivo é compreender a estrutura\n",
    " dos dados, identificar padrões, detectar anomalias e testar hipóteses preliminares,\n",
    " sem pressupor modelos estatísticos específicos"
   ]
  },
  {
   "cell_type": "markdown",
   "metadata": {},
   "source": [
    "A EDA serve como base para análises estatísticas mais aprofundadas, permitindo\n",
    " que pesquisadores e profissionais obtenham insights valiosos sobre os dados antes\n",
    " de aplicar modelos inferenciais ou preditivos. Ela facilita a compreensão das relações\n",
    " entre variáveis e auxilia na preparação dos dados para análises subsequentes."
   ]
  },
  {
   "cell_type": "markdown",
   "metadata": {},
   "source": [
    "Exemplo  \n",
    " Vamos realizar um exemplo básico manualmente para que você compreenda\n",
    " melhor como fazer a chamada EDA (Exploratory Data Analysis).  \n",
    " Suponha que temos\n",
    " as notas de um grupo de 10 alunos em um teste (em uma escala de 0 a 10):"
   ]
  },
  {
   "cell_type": "code",
   "execution_count": 18,
   "metadata": {},
   "outputs": [],
   "source": [
    "notas = [6, 8, 5, 7, 9, 5, 6, 10, 8, 7]"
   ]
  },
  {
   "cell_type": "markdown",
   "metadata": {},
   "source": [
    " Primeiramente, vamos organizar esse conjunto de dados do menor para o maior:"
   ]
  },
  {
   "cell_type": "code",
   "execution_count": 19,
   "metadata": {},
   "outputs": [
    {
     "name": "stdout",
     "output_type": "stream",
     "text": [
      "[5, 5, 6, 6, 7, 7, 8, 8, 9, 10]\n"
     ]
    }
   ],
   "source": [
    "notas.sort()\n",
    "print(notas)"
   ]
  },
  {
   "cell_type": "markdown",
   "metadata": {},
   "source": [
    " Até aqui, apenas organizamos os dados em ordem crescente.  \n",
    " Essa simples\n",
    " organização já nos permite identificar o Limite Inferior (LI), o Limite Superior (LS),\n",
    " traçar a mediana e começar a entender o comportamento dos dados."
   ]
  },
  {
   "cell_type": "code",
   "execution_count": 20,
   "metadata": {},
   "outputs": [
    {
     "name": "stdout",
     "output_type": "stream",
     "text": [
      "5\n",
      "10\n"
     ]
    }
   ],
   "source": [
    "LI = min(notas)\n",
    "LS = max(notas)\n",
    "print(LI)\n",
    "print(LS)"
   ]
  },
  {
   "cell_type": "markdown",
   "metadata": {},
   "source": [
    "Agora, avançaremos para a estatística descritiva, começando pelas medidas de\n",
    " posição.  \n",
    " Essas medidas são úteis porque muitas vezes queremos traduzir perguntas\n",
    " complexas em respostas simples, e é exatamente isso que elas fazem.  \n",
    " As principais medidas de posição são: Média, Mediana e Moda."
   ]
  },
  {
   "cell_type": "markdown",
   "metadata": {},
   "source": [
    "A média representa um “número central” dos dados. Por que as aspas? Porque a\n",
    " média é um valor que, em teoria, deveria representar o conjunto de dados, mas,\n",
    " dependendo do contexto, pode distorcer a realidade.  \n",
    " Por exemplo, imagine que o Confiança, time da cidade de Aracaju (conhecida como a\n",
    " Suíça Brasileira), jogou dois jogos e a média de gols marcados foi 3.  \n",
    " Pausa para reflexão...  \n",
    " Embora esse número seja expressivo, ao analisarmos os dados com mais cuidado,\n",
    " percebemos que no primeiro jogo, contra o time pequeno chamado Sergipe, o\n",
    " Confiança aplicou uma goleada de 6 a 0. Já no segundo jogo, um clássico da Série C\n",
    " contra o Itabaiana, o resultado foi um empate de 0 a 0"
   ]
  },
  {
   "cell_type": "markdown",
   "metadata": {},
   "source": [
    "Média  \n",
    " Percebeu a ironia? A média sozinha não conta toda a história. Vamos pensar em\n",
    " outro exemplo: a média salarial de uma empresa. Suponha que ela seja R$ 5.000.  \n",
    " Você, que está participando de um processo seletivo, pensa: “Quero trabalhar nessa\n",
    " empresa, pois começarei ganhando R$ 5.000.”  \n",
    " Mas, se você fez o curso com o Bruno, já sabe que essa conclusão pode não ser\n",
    " verdadeira.  A média pode ser influenciada por salários muito altos ou muito baixos,\n",
    " e a maioria dos funcionários pode ganhar bem menos do que os R$ 5.000."
   ]
  },
  {
   "cell_type": "markdown",
   "metadata": {},
   "source": [
    "Você deve estar pensando: “Eu sei tudo sobre a média.”  \n",
    "Mas calma aí, vamos dar um\n",
    " sustinho nesse coração curioso. A fórmula da média é escrita assim:"
   ]
  },
  {
   "cell_type": "markdown",
   "metadata": {},
   "source": [
    "## Fórmula da Média\n",
    "\n",
    "A média aritmética é calculada como:\n",
    "\n",
    "$$\n",
    "\\bar{x} = {\\frac{\\sum_{i=1}^{n} x_i}{n}}\n",
    "$$"
   ]
  },
  {
   "cell_type": "markdown",
   "metadata": {},
   "source": [
    "Agora complicou, né? Mas calma! Se você aprendeu que a média é calculada\n",
    " somando todas as observações e dividindo pela quantidade de elementos, você está\n",
    " no caminho certo.  \n",
    " Essa fórmula nada mais é do que a forma matemática de\n",
    " representar exatamente isso.  \n",
    " Então, voltando ao nosso conjunto de dados das notas (espero que você se lembre\n",
    " dele!), vamos calcular a média:"
   ]
  },
  {
   "cell_type": "code",
   "execution_count": null,
   "metadata": {},
   "outputs": [
    {
     "name": "stdout",
     "output_type": "stream",
     "text": [
      "7.1\n"
     ]
    }
   ],
   "source": [
    "soma = sum(notas) #Somatório = 5 + 5 + 6 + 6 + 7 + 7 + 8 + 8 + 9 + 10 = 71\n",
    "quantidade = len(notas) #Quantidade = 10\n",
    "\n",
    "media = soma / quantidade  #Logo, 71 dividido por 10 = 7,1\n",
    "print(media) #7,1"
   ]
  }
 ],
 "metadata": {
  "kernelspec": {
   "display_name": "Python 3",
   "language": "python",
   "name": "python3"
  },
  "language_info": {
   "codemirror_mode": {
    "name": "ipython",
    "version": 3
   },
   "file_extension": ".py",
   "mimetype": "text/x-python",
   "name": "python",
   "nbconvert_exporter": "python",
   "pygments_lexer": "ipython3",
   "version": "3.13.0"
  }
 },
 "nbformat": 4,
 "nbformat_minor": 2
}
